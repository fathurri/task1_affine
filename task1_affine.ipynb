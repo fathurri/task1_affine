{
 "cells": [
  {
   "cell_type": "code",
   "execution_count": 1,
   "metadata": {},
   "outputs": [],
   "source": [
    "import matplotlib.pyplot as plt\n",
    "import numpy as np\n",
    "import string"
   ]
  },
  {
   "cell_type": "code",
   "execution_count": 6,
   "metadata": {},
   "outputs": [],
   "source": [
    "A = np.array([[-1, 1 ,1],\n",
    "                [1, 1, 1],\n",
    "                [1, -1, 1],\n",
    "                [-1, -1, 1]])"
   ]
  },
  {
   "cell_type": "code",
   "execution_count": 7,
   "metadata": {},
   "outputs": [],
   "source": [
    "def d2scaling(matrix, cx, cy):\n",
    "    mscaling = np.array([[cx, 0, 0],\n",
    "                        [0, cy, 0],\n",
    "                        [0, 0, 1]])\n",
    "    mtrans = matrix.transpose()\n",
    "    result = (mscaling @ mtrans)\n",
    "    result = result.transpose()\n",
    "    return result"
   ]
  },
  {
   "cell_type": "code",
   "execution_count": 8,
   "metadata": {},
   "outputs": [],
   "source": [
    "def d2translating(matrix, tx, ty):\n",
    "    mtranslating = np.array([[1, 0, tx],\n",
    "                            [0, 1, ty],\n",
    "                            [0, 0, 1]])\n",
    "    mtrans = matrix.transpose()\n",
    "    result = (mtranslating @ mtrans)\n",
    "    result = result.transpose()\n",
    "    return result"
   ]
  },
  {
   "cell_type": "code",
   "execution_count": 9,
   "metadata": {},
   "outputs": [],
   "source": [
    "def d2rotating(matrix, angle):\n",
    "    mrotation = np.array([[np.cos(angle * np.pi/180), -np.sin(angle * np.pi/180), 0],\n",
    "                        [np.sin(angle * np.pi/180), np.cos(angle * np.pi/180), 0],\n",
    "                        [0, 0, 1]])\n",
    "    mtrans = matrix.transpose()\n",
    "    result = (mrotation @ mtrans)\n",
    "    result = result.transpose()\n",
    "    return result"
   ]
  },
  {
   "cell_type": "code",
   "execution_count": 10,
   "metadata": {},
   "outputs": [],
   "source": [
    "def d2projecting(matrix, p1, p2):\n",
    "    mprojecting = np.array([[1, 0, 0],\n",
    "                            [0, 1, 0],\n",
    "                            [p1, p1, 1]])\n",
    "    mtrans = matrix.transpose()\n",
    "    result = (mprojecting @ mtrans)\n",
    "    result = result / result[2]\n",
    "    result = result.transpose()\n",
    "    return result"
   ]
  },
  {
   "cell_type": "code",
   "execution_count": 11,
   "metadata": {},
   "outputs": [],
   "source": [
    "#FUNGSI PLOT GAMBAR SEBELUM TRANSFORMASI\n",
    "\n",
    "def plot_beforeTransform(matrix):\n",
    "    dot = list(string.ascii_letters)\n",
    "    ax = plt.gca()\n",
    "    i = 0\n",
    "    xs = []\n",
    "    ys = []\n",
    "    for row in matrix:\n",
    "        x, y, w = row\n",
    "        xs.append(x)\n",
    "        ys.append(y)\n",
    "        plt.scatter(x, y)\n",
    "        plt.annotate(dot[i], (x+0.1, y+0.1))\n",
    "        i += 1\n",
    "    xs.append(matrix[0][0])\n",
    "    ys.append(matrix[0][1])\n",
    "    plt.plot(xs, ys, color=\"gray\", linestyle=\"dotted\")\n",
    "    ax.set_xticks(np.arange(-3, 4, 1))\n",
    "    ax.set_yticks(np.arange(-3, 4, 1))\n",
    "    plt.title(\"before\")\n",
    "    plt.grid()\n",
    "    plt.show()"
   ]
  },
  {
   "cell_type": "code",
   "execution_count": 12,
   "metadata": {},
   "outputs": [],
   "source": [
    "#FUNGSI PLOT GAMBAR SETELAH TRANSFORMASI\n",
    "\n",
    "def plot_afterTransform(matrix):\n",
    "    dot = list(string.ascii_letters)\n",
    "    for i in range(len(dot)):\n",
    "        dot[i] = dot[i] + \"`\"\n",
    "    ax = plt.gca()\n",
    "    i = 0\n",
    "    xs = []\n",
    "    ys = []\n",
    "    for row in matrix:\n",
    "        x, y, w = row\n",
    "        xs.append(x)\n",
    "        ys.append(y)\n",
    "        plt.scatter(x, y)\n",
    "        plt.annotate(dot[i], (x+0.1, y+0.1))\n",
    "        i += 1\n",
    "    xs.append(matrix[0][0])\n",
    "    ys.append(matrix[0][1])\n",
    "    plt.plot(xs, ys, color=\"gray\", linestyle=\"dotted\")\n",
    "    ax.set_xticks(np.arange(-3, 4, 1))\n",
    "    ax.set_yticks(np.arange(-3, 4, 1))\n",
    "    plt.title(\"after\")\n",
    "    plt.grid()\n",
    "    plt.show()"
   ]
  },
  {
   "cell_type": "code",
   "execution_count": 13,
   "metadata": {},
   "outputs": [
    {
     "data": {
      "image/png": "[encoded data removed]",
      "text/plain": [
       "<Figure size 432x288 with 1 Axes>"
      ]
     },
     "metadata": {
      "needs_background": "light"
     },
     "output_type": "display_data"
    }
   ],
   "source": [
    "plot_beforeTransform(A)"
   ]
  },
  {
   "cell_type": "code",
   "execution_count": 16,
   "metadata": {},
   "outputs": [
    {
     "data": {
      "image/png": "[encoded data removed]",
      "text/plain": [
       "<Figure size 432x288 with 1 Axes>"
      ]
     },
     "metadata": {
      "needs_background": "light"
     },
     "output_type": "display_data"
    },
    {
     "name": "stdout",
     "output_type": "stream",
     "text": [
      "[[-2  2  1]\n",
      " [ 2  2  1]\n",
      " [ 2 -2  1]\n",
      " [-2 -2  1]]\n"
     ]
    }
   ],
   "source": [
    "#SCALING\n",
    "\n",
    "matrix_scaling = d2scaling(A, 2, 2)\n",
    "plot_afterTransform(matrix_scaling)\n",
    "print(matrix_scaling)"
   ]
  },
  {
   "cell_type": "code",
   "execution_count": 15,
   "metadata": {},
   "outputs": [
    {
     "data": {
      "image/png": "[encoded data removed]",
      "text/plain": [
       "<Figure size 432x288 with 1 Axes>"
      ]
     },
     "metadata": {
      "needs_background": "light"
     },
     "output_type": "display_data"
    },
    {
     "name": "stdout",
     "output_type": "stream",
     "text": [
      "[[0 2 1]\n",
      " [2 2 1]\n",
      " [2 0 1]\n",
      " [0 0 1]]\n"
     ]
    }
   ],
   "source": [
    "#TRANSLATING\n",
    "\n",
    "matrix_translating = d2translating(A, 1, 1)\n",
    "plot_afterTransform(matrix_translating)\n",
    "print(matrix_translating)"
   ]
  },
  {
   "cell_type": "code",
   "execution_count": 17,
   "metadata": {},
   "outputs": [
    {
     "data": {
      "image/png": "[encoded data removed]",
      "text/plain": [
       "<Figure size 432x288 with 1 Axes>"
      ]
     },
     "metadata": {
      "needs_background": "light"
     },
     "output_type": "display_data"
    },
    {
     "name": "stdout",
     "output_type": "stream",
     "text": [
      "[[ 0.4604229  -1.33716519  1.        ]\n",
      " [-1.33716519 -0.4604229   1.        ]\n",
      " [-0.4604229   1.33716519  1.        ]\n",
      " [ 1.33716519  0.4604229   1.        ]]\n"
     ]
    }
   ],
   "source": [
    "#ROTATING\n",
    "\n",
    "matrix_rotating = d2rotating(A, 154)\n",
    "plot_afterTransform(matrix_rotating)\n",
    "print(matrix_rotating)"
   ]
  },
  {
   "cell_type": "code",
   "execution_count": 18,
   "metadata": {},
   "outputs": [
    {
     "data": {
      "image/png": "[encoded data removed]",
      "text/plain": [
       "<Figure size 432x288 with 1 Axes>"
      ]
     },
     "metadata": {
      "needs_background": "light"
     },
     "output_type": "display_data"
    },
    {
     "name": "stdout",
     "output_type": "stream",
     "text": [
      "[[-1.          1.          1.        ]\n",
      " [ 0.83333333  0.83333333  1.        ]\n",
      " [ 1.         -1.          1.        ]\n",
      " [-1.25       -1.25        1.        ]]\n"
     ]
    }
   ],
   "source": [
    "#PROJECTING\n",
    "#plot_beforeTransform(A)\n",
    "matrix_projecting = d2projecting(A, 0.1, 0.3)\n",
    "plot_afterTransform(matrix_projecting)\n",
    "print(matrix_projecting)"
   ]
  },
  {
   "cell_type": "code",
   "execution_count": null,
   "metadata": {},
   "outputs": [],
   "source": []
  }
 ],
 "metadata": {
  "kernelspec": {
   "display_name": "Python 3",
   "language": "python",
   "name": "python3"
  },
  "language_info": {
   "codemirror_mode": {
    "name": "ipython",
    "version": 3
   },
   "file_extension": ".py",
   "mimetype": "text/x-python",
   "name": "python",
   "nbconvert_exporter": "python",
   "pygments_lexer": "ipython3",
   "version": "3.7.4"
  }
 },
 "nbformat": 4,
 "nbformat_minor": 2
}
